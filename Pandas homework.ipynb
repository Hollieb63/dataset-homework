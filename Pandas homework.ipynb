{
 "cells": [
  {
   "cell_type": "markdown",
   "id": "d1e5a1ee",
   "metadata": {},
   "source": [
    "<h1>Tackling an open problem</h1>\n",
    "\n",
    "For this homework the idea is to hone our skills on exploring and plotting a dataset. You can either work with the Pokemon dataset that was given or download your own. If you opt to download your own I recommend you use one of the datasets available on kaggle,\n",
    "\n",
    "https://www.kaggle.com/datasets\n",
    "\n",
    "As they tend to be found in a clean format and are generally free to use.\n",
    "\n",
    "Largely, the main objective is learning how to search the internet for new implementations you want to use on your code helping you develop your self-confidence.\n",
    "\n",
    "There's no right or wrong, pick a dataset you enjoy and try to have some fun.\n",
    "If you need, use the notebook from the previous session as a guideline.\n"
   ]
  },
  {
   "cell_type": "code",
   "execution_count": 26,
   "id": "e7d86556-50b4-455d-a3c6-7fbab6caaf48",
   "metadata": {},
   "outputs": [
    {
     "name": "stdout",
     "output_type": "stream",
     "text": [
      "Dataset URL: https://www.kaggle.com/datasets/rkiattisak/traveler-trip-data\n",
      "Downloading traveler-trip-data.zip to .\\traveler-trip-data\n"
     ]
    },
    {
     "name": "stderr",
     "output_type": "stream",
     "text": [
      "100%|██████████| 4.21k/4.21k [00:00<00:00, 426kB/s]"
     ]
    },
    {
     "name": "stdout",
     "output_type": "stream",
     "text": [
      "\n"
     ]
    },
    {
     "name": "stderr",
     "output_type": "stream",
     "text": [
      "\n"
     ]
    }
   ],
   "source": [
    "import opendatasets as od \n",
    "import pandas \n",
    "\n",
    "od.download( \n",
    "\t\"https://www.kaggle.com/datasets/rkiattisak/traveler-trip-data\") \n"
   ]
  },
  {
   "cell_type": "code",
   "execution_count": 84,
   "id": "47a8cb0c-738e-4c90-b5cc-cbad4d64761b",
   "metadata": {},
   "outputs": [],
   "source": [
    "import pandas as pd"
   ]
  },
  {
   "cell_type": "code",
   "execution_count": 86,
   "id": "d1c9a7a8-e03f-43b2-95ca-8f53554ddad5",
   "metadata": {},
   "outputs": [],
   "source": [
    "import matplotlib.pyplot as plt"
   ]
  },
  {
   "cell_type": "code",
   "execution_count": 88,
   "id": "f3aee8f6-a1f7-4ecd-a9d9-0b000fd82e5b",
   "metadata": {},
   "outputs": [],
   "source": [
    "import numpy as np"
   ]
  },
  {
   "cell_type": "raw",
   "id": "f72a6e76-5e7f-4e19-b142-6a295be69ab2",
   "metadata": {},
   "source": [
    "travel_df = pd.read_csv('Travel.csv', sep=',')"
   ]
  },
  {
   "cell_type": "code",
   "execution_count": 98,
   "id": "13d5c358-1f80-4822-aca6-8e5d338bfa6e",
   "metadata": {},
   "outputs": [
    {
     "name": "stdout",
     "output_type": "stream",
     "text": [
      "     Trip ID             Destination Start date   End date  Duration (days)  \\\n",
      "0          1              London, UK   5/1/2023   5/8/2023              7.0   \n",
      "1          2        Phuket, Thailand  6/15/2023  6/20/2023              5.0   \n",
      "2          3         Bali, Indonesia   7/1/2023   7/8/2023              7.0   \n",
      "3          4           New York, USA  8/15/2023  8/29/2023             14.0   \n",
      "4          5            Tokyo, Japan  9/10/2023  9/17/2023              7.0   \n",
      "..       ...                     ...        ...        ...              ...   \n",
      "134      135  Rio de Janeiro, Brazil   8/1/2023  8/10/2023              9.0   \n",
      "135      136       Vancouver, Canada  8/15/2023  8/21/2023              6.0   \n",
      "136      137       Bangkok, Thailand   9/1/2023   9/8/2023              7.0   \n",
      "137      138        Barcelona, Spain  9/15/2023  9/22/2023              7.0   \n",
      "138      139   Auckland, New Zealand  10/1/2023  10/8/2023              7.0   \n",
      "\n",
      "       Traveler name  Traveler age Traveler gender Traveler nationality  \\\n",
      "0         John Smith          35.0            Male             American   \n",
      "1           Jane Doe          28.0          Female             Canadian   \n",
      "2          David Lee          45.0            Male               Korean   \n",
      "3      Sarah Johnson          29.0          Female              British   \n",
      "4         Kim Nguyen          26.0          Female           Vietnamese   \n",
      "..               ...           ...             ...                  ...   \n",
      "134       Jose Perez          37.0            Male            Brazilian   \n",
      "135      Emma Wilson          29.0          Female             Canadian   \n",
      "136        Ryan Chen          34.0            Male              Chinese   \n",
      "137  Sofia Rodriguez          25.0          Female              Spanish   \n",
      "138    William Brown          39.0            Male        New Zealander   \n",
      "\n",
      "    Accommodation type Accommodation cost Transportation type  \\\n",
      "0                Hotel               1200              Flight   \n",
      "1               Resort                800              Flight   \n",
      "2                Villa               1000              Flight   \n",
      "3                Hotel               2000              Flight   \n",
      "4               Airbnb                700               Train   \n",
      "..                 ...                ...                 ...   \n",
      "134             Hostel               2500                 Car   \n",
      "135              Hotel               5000            Airplane   \n",
      "136             Hostel               2000               Train   \n",
      "137             Airbnb               6000            Airplane   \n",
      "138              Hotel               7000               Train   \n",
      "\n",
      "    Transportation cost  \n",
      "0                   600  \n",
      "1                   500  \n",
      "2                   700  \n",
      "3                  1000  \n",
      "4                   200  \n",
      "..                  ...  \n",
      "134                2000  \n",
      "135                3000  \n",
      "136                1000  \n",
      "137                2500  \n",
      "138                2500  \n",
      "\n",
      "[139 rows x 13 columns]\n"
     ]
    }
   ],
   "source": [
    "print(travel_df)"
   ]
  },
  {
   "cell_type": "code",
   "execution_count": null,
   "id": "4c24a190-4807-4485-a1c6-c2fbbffd229d",
   "metadata": {},
   "outputs": [],
   "source": []
  }
 ],
 "metadata": {
  "kernelspec": {
   "display_name": "Python 3 (ipykernel)",
   "language": "python",
   "name": "python3"
  },
  "language_info": {
   "codemirror_mode": {
    "name": "ipython",
    "version": 3
   },
   "file_extension": ".py",
   "mimetype": "text/x-python",
   "name": "python",
   "nbconvert_exporter": "python",
   "pygments_lexer": "ipython3",
   "version": "3.12.7"
  }
 },
 "nbformat": 4,
 "nbformat_minor": 5
}
